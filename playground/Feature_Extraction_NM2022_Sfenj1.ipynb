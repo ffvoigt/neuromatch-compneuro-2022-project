{
  "nbformat": 4,
  "nbformat_minor": 0,
  "metadata": {
    "colab": {
      "name": "Feature_Extraction_NM2022_Sfenj1.ipynb",
      "provenance": [],
      "collapsed_sections": [],
      "include_colab_link": true
    },
    "kernelspec": {
      "name": "python3",
      "display_name": "Python 3"
    },
    "language_info": {
      "name": "python"
    }
  },
  "cells": [
    {
      "cell_type": "markdown",
      "metadata": {
        "id": "view-in-github",
        "colab_type": "text"
      },
      "source": [
        "<a href=\"https://colab.research.google.com/github/msidikpr/neuromatch-compneuro-2022-project/blob/development/playground/Feature_Extraction_NM2022_Sfenj1.ipynb\" target=\"_parent\"><img src=\"https://colab.research.google.com/assets/colab-badge.svg\" alt=\"Open In Colab\"/></a>"
      ]
    },
    {
      "cell_type": "markdown",
      "source": [
        "# General\n",
        "\n",
        "The job of this notebook is to:\n",
        "\n",
        "* Load the preprocessed tracking data into a `master_df` DataFrame\n",
        "\n",
        "* Add handcrafted features as columns to `master_df`\n",
        "\n",
        "* Save the `master_df` so it can be used for later classification notebooks\n",
        "\n",
        "## Style / naming guide / coding hints\n",
        "\n",
        "* Axes in column labels such as 'X' and 'Y' are always capitalized: e.g. `left_ear_X`\n",
        "* All coordinates are in cm, area in cm^2\n",
        "* All angles are in degrees\n",
        "* 0° is up / north in the video frame\n",
        "* whenever extracting features, do sanity checks on them:\n",
        "  * plot time course: are there weird discontinuities etc.?\n",
        "* often, rounding values makes sense to reduce numerical errors (e.g. angles such as 34.999999° are biologically meaningless -> round to 35°"
      ],
      "metadata": {
        "id": "jx6Vpa88H5xk"
      }
    },
    {
      "cell_type": "markdown",
      "source": [
        "# Housekeeping"
      ],
      "metadata": {
        "id": "5xTQuJEhyytC"
      }
    },
    {
      "cell_type": "code",
      "source": [
        "import os\n",
        "import json\n",
        "import numpy as np\n",
        "import pandas as pd\n",
        "import matplotlib.pyplot as plt\n",
        "from matplotlib import animation\n",
        "from matplotlib import colors\n",
        "from matplotlib import rc\n",
        "import matplotlib.patches as mpatches"
      ],
      "metadata": {
        "id": "nFvL8e0JypaV"
      },
      "execution_count": null,
      "outputs": []
    },
    {
      "cell_type": "markdown",
      "source": [
        "# Loading the data from Google Drive"
      ],
      "metadata": {
        "id": "mhNDBTQdxcx-"
      }
    },
    {
      "cell_type": "code",
      "execution_count": null,
      "metadata": {
        "colab": {
          "base_uri": "https://localhost:8080/",
          "height": 305
        },
        "id": "5wZUrbnjxbrv",
        "outputId": "51ad0df1-09e3-4e52-d94c-b8c382d62c4d"
      },
      "outputs": [
        {
          "output_type": "stream",
          "name": "stdout",
          "text": [
            "Mounted at /content/drive\n"
          ]
        },
        {
          "output_type": "execute_result",
          "data": {
            "text/plain": [
              "   Unnamed: 0  frame_num  session_num  mouse_id  annotations      nose_X  \\\n",
              "0           0          0            0         0            3  831.659204   \n",
              "1           1          1            0         0            1  833.050439   \n",
              "2           2          2            0         0            1  838.718976   \n",
              "3           3          3            0         0            1  826.757507   \n",
              "4           4          4            0         0            1  822.045709   \n",
              "\n",
              "       nose_Y  left_ear_X  left_ear_Y  right_ear_X  right_ear_Y      neck_X  \\\n",
              "0  202.914433  805.659204  250.914433   775.659204   189.914433  780.659204   \n",
              "1  201.895063  809.050439  251.895063   778.050439   193.895063  783.050439   \n",
              "2  179.862692  816.718976  244.862692   776.718976   193.862692  787.718976   \n",
              "3  175.148063  815.757507  235.148063   774.757507   187.148063  785.757507   \n",
              "4  174.457936  812.045709  222.457936   768.045709   178.457936  779.045709   \n",
              "\n",
              "       neck_Y  left_hip_X  left_hip_Y  right_hip_X  right_hip_Y  tailbase_X  \\\n",
              "0  225.914433  711.659204  278.914433   711.659204   192.914433  643.659204   \n",
              "1  229.895063  723.050439  287.895063   717.050439   192.895063  644.050439   \n",
              "2  225.862692  730.718976  286.862692   713.718976   196.862692  646.718976   \n",
              "3  218.148063  743.757507  282.148063   711.757507   198.148063  644.757507   \n",
              "4  211.457936  749.045709  278.457936   709.045709   194.457936  646.045709   \n",
              "\n",
              "   tailbase_Y  \n",
              "0  220.914433  \n",
              "1  227.895063  \n",
              "2  233.862692  \n",
              "3  237.148063  \n",
              "4  233.457936  "
            ],
            "text/html": [
              "\n",
              "  <div id=\"df-e804e1e3-a7c3-4378-bf19-50ede019f84b\">\n",
              "    <div class=\"colab-df-container\">\n",
              "      <div>\n",
              "<style scoped>\n",
              "    .dataframe tbody tr th:only-of-type {\n",
              "        vertical-align: middle;\n",
              "    }\n",
              "\n",
              "    .dataframe tbody tr th {\n",
              "        vertical-align: top;\n",
              "    }\n",
              "\n",
              "    .dataframe thead th {\n",
              "        text-align: right;\n",
              "    }\n",
              "</style>\n",
              "<table border=\"1\" class=\"dataframe\">\n",
              "  <thead>\n",
              "    <tr style=\"text-align: right;\">\n",
              "      <th></th>\n",
              "      <th>Unnamed: 0</th>\n",
              "      <th>frame_num</th>\n",
              "      <th>session_num</th>\n",
              "      <th>mouse_id</th>\n",
              "      <th>annotations</th>\n",
              "      <th>nose_X</th>\n",
              "      <th>nose_Y</th>\n",
              "      <th>left_ear_X</th>\n",
              "      <th>left_ear_Y</th>\n",
              "      <th>right_ear_X</th>\n",
              "      <th>right_ear_Y</th>\n",
              "      <th>neck_X</th>\n",
              "      <th>neck_Y</th>\n",
              "      <th>left_hip_X</th>\n",
              "      <th>left_hip_Y</th>\n",
              "      <th>right_hip_X</th>\n",
              "      <th>right_hip_Y</th>\n",
              "      <th>tailbase_X</th>\n",
              "      <th>tailbase_Y</th>\n",
              "    </tr>\n",
              "  </thead>\n",
              "  <tbody>\n",
              "    <tr>\n",
              "      <th>0</th>\n",
              "      <td>0</td>\n",
              "      <td>0</td>\n",
              "      <td>0</td>\n",
              "      <td>0</td>\n",
              "      <td>3</td>\n",
              "      <td>831.659204</td>\n",
              "      <td>202.914433</td>\n",
              "      <td>805.659204</td>\n",
              "      <td>250.914433</td>\n",
              "      <td>775.659204</td>\n",
              "      <td>189.914433</td>\n",
              "      <td>780.659204</td>\n",
              "      <td>225.914433</td>\n",
              "      <td>711.659204</td>\n",
              "      <td>278.914433</td>\n",
              "      <td>711.659204</td>\n",
              "      <td>192.914433</td>\n",
              "      <td>643.659204</td>\n",
              "      <td>220.914433</td>\n",
              "    </tr>\n",
              "    <tr>\n",
              "      <th>1</th>\n",
              "      <td>1</td>\n",
              "      <td>1</td>\n",
              "      <td>0</td>\n",
              "      <td>0</td>\n",
              "      <td>1</td>\n",
              "      <td>833.050439</td>\n",
              "      <td>201.895063</td>\n",
              "      <td>809.050439</td>\n",
              "      <td>251.895063</td>\n",
              "      <td>778.050439</td>\n",
              "      <td>193.895063</td>\n",
              "      <td>783.050439</td>\n",
              "      <td>229.895063</td>\n",
              "      <td>723.050439</td>\n",
              "      <td>287.895063</td>\n",
              "      <td>717.050439</td>\n",
              "      <td>192.895063</td>\n",
              "      <td>644.050439</td>\n",
              "      <td>227.895063</td>\n",
              "    </tr>\n",
              "    <tr>\n",
              "      <th>2</th>\n",
              "      <td>2</td>\n",
              "      <td>2</td>\n",
              "      <td>0</td>\n",
              "      <td>0</td>\n",
              "      <td>1</td>\n",
              "      <td>838.718976</td>\n",
              "      <td>179.862692</td>\n",
              "      <td>816.718976</td>\n",
              "      <td>244.862692</td>\n",
              "      <td>776.718976</td>\n",
              "      <td>193.862692</td>\n",
              "      <td>787.718976</td>\n",
              "      <td>225.862692</td>\n",
              "      <td>730.718976</td>\n",
              "      <td>286.862692</td>\n",
              "      <td>713.718976</td>\n",
              "      <td>196.862692</td>\n",
              "      <td>646.718976</td>\n",
              "      <td>233.862692</td>\n",
              "    </tr>\n",
              "    <tr>\n",
              "      <th>3</th>\n",
              "      <td>3</td>\n",
              "      <td>3</td>\n",
              "      <td>0</td>\n",
              "      <td>0</td>\n",
              "      <td>1</td>\n",
              "      <td>826.757507</td>\n",
              "      <td>175.148063</td>\n",
              "      <td>815.757507</td>\n",
              "      <td>235.148063</td>\n",
              "      <td>774.757507</td>\n",
              "      <td>187.148063</td>\n",
              "      <td>785.757507</td>\n",
              "      <td>218.148063</td>\n",
              "      <td>743.757507</td>\n",
              "      <td>282.148063</td>\n",
              "      <td>711.757507</td>\n",
              "      <td>198.148063</td>\n",
              "      <td>644.757507</td>\n",
              "      <td>237.148063</td>\n",
              "    </tr>\n",
              "    <tr>\n",
              "      <th>4</th>\n",
              "      <td>4</td>\n",
              "      <td>4</td>\n",
              "      <td>0</td>\n",
              "      <td>0</td>\n",
              "      <td>1</td>\n",
              "      <td>822.045709</td>\n",
              "      <td>174.457936</td>\n",
              "      <td>812.045709</td>\n",
              "      <td>222.457936</td>\n",
              "      <td>768.045709</td>\n",
              "      <td>178.457936</td>\n",
              "      <td>779.045709</td>\n",
              "      <td>211.457936</td>\n",
              "      <td>749.045709</td>\n",
              "      <td>278.457936</td>\n",
              "      <td>709.045709</td>\n",
              "      <td>194.457936</td>\n",
              "      <td>646.045709</td>\n",
              "      <td>233.457936</td>\n",
              "    </tr>\n",
              "  </tbody>\n",
              "</table>\n",
              "</div>\n",
              "      <button class=\"colab-df-convert\" onclick=\"convertToInteractive('df-e804e1e3-a7c3-4378-bf19-50ede019f84b')\"\n",
              "              title=\"Convert this dataframe to an interactive table.\"\n",
              "              style=\"display:none;\">\n",
              "        \n",
              "  <svg xmlns=\"http://www.w3.org/2000/svg\" height=\"24px\"viewBox=\"0 0 24 24\"\n",
              "       width=\"24px\">\n",
              "    <path d=\"M0 0h24v24H0V0z\" fill=\"none\"/>\n",
              "    <path d=\"M18.56 5.44l.94 2.06.94-2.06 2.06-.94-2.06-.94-.94-2.06-.94 2.06-2.06.94zm-11 1L8.5 8.5l.94-2.06 2.06-.94-2.06-.94L8.5 2.5l-.94 2.06-2.06.94zm10 10l.94 2.06.94-2.06 2.06-.94-2.06-.94-.94-2.06-.94 2.06-2.06.94z\"/><path d=\"M17.41 7.96l-1.37-1.37c-.4-.4-.92-.59-1.43-.59-.52 0-1.04.2-1.43.59L10.3 9.45l-7.72 7.72c-.78.78-.78 2.05 0 2.83L4 21.41c.39.39.9.59 1.41.59.51 0 1.02-.2 1.41-.59l7.78-7.78 2.81-2.81c.8-.78.8-2.07 0-2.86zM5.41 20L4 18.59l7.72-7.72 1.47 1.35L5.41 20z\"/>\n",
              "  </svg>\n",
              "      </button>\n",
              "      \n",
              "  <style>\n",
              "    .colab-df-container {\n",
              "      display:flex;\n",
              "      flex-wrap:wrap;\n",
              "      gap: 12px;\n",
              "    }\n",
              "\n",
              "    .colab-df-convert {\n",
              "      background-color: #E8F0FE;\n",
              "      border: none;\n",
              "      border-radius: 50%;\n",
              "      cursor: pointer;\n",
              "      display: none;\n",
              "      fill: #1967D2;\n",
              "      height: 32px;\n",
              "      padding: 0 0 0 0;\n",
              "      width: 32px;\n",
              "    }\n",
              "\n",
              "    .colab-df-convert:hover {\n",
              "      background-color: #E2EBFA;\n",
              "      box-shadow: 0px 1px 2px rgba(60, 64, 67, 0.3), 0px 1px 3px 1px rgba(60, 64, 67, 0.15);\n",
              "      fill: #174EA6;\n",
              "    }\n",
              "\n",
              "    [theme=dark] .colab-df-convert {\n",
              "      background-color: #3B4455;\n",
              "      fill: #D2E3FC;\n",
              "    }\n",
              "\n",
              "    [theme=dark] .colab-df-convert:hover {\n",
              "      background-color: #434B5C;\n",
              "      box-shadow: 0px 1px 3px 1px rgba(0, 0, 0, 0.15);\n",
              "      filter: drop-shadow(0px 1px 2px rgba(0, 0, 0, 0.3));\n",
              "      fill: #FFFFFF;\n",
              "    }\n",
              "  </style>\n",
              "\n",
              "      <script>\n",
              "        const buttonEl =\n",
              "          document.querySelector('#df-e804e1e3-a7c3-4378-bf19-50ede019f84b button.colab-df-convert');\n",
              "        buttonEl.style.display =\n",
              "          google.colab.kernel.accessAllowed ? 'block' : 'none';\n",
              "\n",
              "        async function convertToInteractive(key) {\n",
              "          const element = document.querySelector('#df-e804e1e3-a7c3-4378-bf19-50ede019f84b');\n",
              "          const dataTable =\n",
              "            await google.colab.kernel.invokeFunction('convertToInteractive',\n",
              "                                                     [key], {});\n",
              "          if (!dataTable) return;\n",
              "\n",
              "          const docLinkHtml = 'Like what you see? Visit the ' +\n",
              "            '<a target=\"_blank\" href=https://colab.research.google.com/notebooks/data_table.ipynb>data table notebook</a>'\n",
              "            + ' to learn more about interactive tables.';\n",
              "          element.innerHTML = '';\n",
              "          dataTable['output_type'] = 'display_data';\n",
              "          await google.colab.output.renderOutput(dataTable, element);\n",
              "          const docLink = document.createElement('div');\n",
              "          docLink.innerHTML = docLinkHtml;\n",
              "          element.appendChild(docLink);\n",
              "        }\n",
              "      </script>\n",
              "    </div>\n",
              "  </div>\n",
              "  "
            ]
          },
          "metadata": {},
          "execution_count": 3
        }
      ],
      "source": [
        "#Because we are using a Shared with me drive, we need to have a small workaround\n",
        "#In your shared with me folder, right click on:\n",
        "#NMA_2022_Sfenj_Group_1\"\n",
        "#And click \"Make a shortcut\", and have this shortcut within your own drive\n",
        "\n",
        "#now we can mount our drive\n",
        "from pickle import load\n",
        "# mount google drive\n",
        "from google.colab import drive\n",
        "drive.mount('/content/drive')\n",
        "#Since you have mounted your drive, which includes this shortcut, you can now access the files within that shortcut:\n",
        "master_df = pd.read_csv('/content/drive/MyDrive/NMA_2022_Sfenj_Group_1/master_df.csv')\n",
        "\n",
        "#test by showing the head\n",
        "master_df.head()"
      ]
    },
    {
      "cell_type": "markdown",
      "source": [
        "## Conversion to cm \n",
        "The tracking data is provided in \"pixel\" units, to convert into Centimeters units, all coordinates need to be divided by 37.7"
      ],
      "metadata": {
        "id": "jF34Hs0IHYwN"
      }
    },
    {
      "cell_type": "code",
      "source": [
        "## converts dataframe into units of cm\n",
        "## uses conversion of 37.7 pixels/cm\n",
        "x = master_df.columns.tolist()\n",
        "x= x[5:]\n",
        "master_df[x]= master_df[x]/37.7"
      ],
      "metadata": {
        "id": "fHJKD7F8HVR_"
      },
      "execution_count": null,
      "outputs": []
    },
    {
      "cell_type": "markdown",
      "source": [
        "# Adding features"
      ],
      "metadata": {
        "id": "1ygpsQpbzGRf"
      }
    },
    {
      "cell_type": "markdown",
      "source": [
        "#### Postion centroids\n",
        "\n",
        "Centroids are calculated by taking the mean of the individual coordinates."
      ],
      "metadata": {
        "id": "Un6ixdzWHJj6"
      }
    },
    {
      "cell_type": "code",
      "source": [
        "#Now we can calculate features in the master_df\n",
        "#re-create indexing variables from when master_df was initially created\n",
        "master_dict = {'frame_num':[], 'session_num': [], 'mouse_id': [], 'annotations':[]}\n",
        "pos_x_names = ['nose_X', 'left_ear_X', 'right_ear_X','neck_X', 'left_hip_X', 'right_hip_X', 'tailbase_X'] \n",
        "pos_y_names = ['nose_Y', 'left_ear_Y', 'right_ear_Y','neck_Y', 'left_hip_Y', 'right_hip_Y', 'tailbase_Y']\n",
        "\n",
        "# get average of all XY positions for centroid location\n",
        "#calcuate the mean of all x's and y's (centroid of all 7 pts)\n",
        "master_df['centroid_X'] = master_df[pos_x_names].mean(axis=1) \n",
        "master_df['centroid_Y'] = master_df[pos_y_names].mean(axis=1)\n",
        "\n",
        "master_df['centroid_head_X'] = master_df[['nose_X', 'left_ear_X', 'right_ear_X','neck_X']].mean(axis=1)\n",
        "master_df['centroid_head_Y'] = master_df[['nose_Y', 'left_ear_Y', 'right_ear_Y','neck_Y']].mean(axis=1)\n",
        "master_df['centroid_body_X'] = master_df[['left_hip_X', 'right_hip_X', 'tailbase_X']].mean(axis=1)\n",
        "master_df['centroid_body_Y'] = master_df[['left_hip_Y', 'right_hip_Y', 'tailbase_Y']].mean(axis=1)\n",
        "\n",
        "master_df.head()\n",
        "\n",
        "\n",
        "\n"
      ],
      "metadata": {
        "id": "qhJC1d1Ry_jm",
        "colab": {
          "base_uri": "https://localhost:8080/",
          "height": 317
        },
        "outputId": "dfb3a578-82c9-4df1-be74-63aa2619eab7"
      },
      "execution_count": null,
      "outputs": [
        {
          "output_type": "execute_result",
          "data": {
            "text/plain": [
              "   Unnamed: 0  frame_num  session_num  mouse_id  annotations     nose_X  \\\n",
              "0           0          0            0         0            3  22.059926   \n",
              "1           1          1            0         0            1  22.096829   \n",
              "2           2          2            0         0            1  22.247188   \n",
              "3           3          3            0         0            1  21.929907   \n",
              "4           4          4            0         0            1  21.804926   \n",
              "\n",
              "     nose_Y  left_ear_X  left_ear_Y  right_ear_X  ...  right_hip_X  \\\n",
              "0  5.382346   21.370271    6.655555    20.574515  ...    18.876902   \n",
              "1  5.355307   21.460224    6.681567    20.637943  ...    19.019906   \n",
              "2  4.770894   21.663633    6.495032    20.602625  ...    18.931538   \n",
              "3  4.645837   21.638130    6.237349    20.550597  ...    18.879509   \n",
              "4  4.627531   21.539674    5.900741    20.372565  ...    18.807578   \n",
              "\n",
              "   right_hip_Y  tailbase_X  tailbase_Y  centroid_X  centroid_Y  \\\n",
              "0     5.117094   17.073188    5.859799   19.934121    5.920428   \n",
              "1     5.116580   17.083566    6.044962   20.035442    6.010858   \n",
              "2     5.221822   17.154349    6.203254   20.125172    5.919056   \n",
              "3     5.255917   17.102321    6.290400   20.095879    5.809157   \n",
              "4     5.158035   17.136491    6.192518   20.027738    5.658225   \n",
              "\n",
              "   centroid_head_X  centroid_head_Y  centroid_body_X  centroid_body_Y  \n",
              "0        21.177963         5.766961        18.275664         6.125051  \n",
              "1        21.241391         5.819498        18.427509         6.266005  \n",
              "2        21.351962         5.599806        18.489451         6.344722  \n",
              "3        21.240252         5.408437        18.570049         6.343450  \n",
              "4        21.095377         5.217717        18.604219         6.245569  \n",
              "\n",
              "[5 rows x 25 columns]"
            ],
            "text/html": [
              "\n",
              "  <div id=\"df-81f637bb-c6c1-40ff-886a-9548a227ab8e\">\n",
              "    <div class=\"colab-df-container\">\n",
              "      <div>\n",
              "<style scoped>\n",
              "    .dataframe tbody tr th:only-of-type {\n",
              "        vertical-align: middle;\n",
              "    }\n",
              "\n",
              "    .dataframe tbody tr th {\n",
              "        vertical-align: top;\n",
              "    }\n",
              "\n",
              "    .dataframe thead th {\n",
              "        text-align: right;\n",
              "    }\n",
              "</style>\n",
              "<table border=\"1\" class=\"dataframe\">\n",
              "  <thead>\n",
              "    <tr style=\"text-align: right;\">\n",
              "      <th></th>\n",
              "      <th>Unnamed: 0</th>\n",
              "      <th>frame_num</th>\n",
              "      <th>session_num</th>\n",
              "      <th>mouse_id</th>\n",
              "      <th>annotations</th>\n",
              "      <th>nose_X</th>\n",
              "      <th>nose_Y</th>\n",
              "      <th>left_ear_X</th>\n",
              "      <th>left_ear_Y</th>\n",
              "      <th>right_ear_X</th>\n",
              "      <th>...</th>\n",
              "      <th>right_hip_X</th>\n",
              "      <th>right_hip_Y</th>\n",
              "      <th>tailbase_X</th>\n",
              "      <th>tailbase_Y</th>\n",
              "      <th>centroid_X</th>\n",
              "      <th>centroid_Y</th>\n",
              "      <th>centroid_head_X</th>\n",
              "      <th>centroid_head_Y</th>\n",
              "      <th>centroid_body_X</th>\n",
              "      <th>centroid_body_Y</th>\n",
              "    </tr>\n",
              "  </thead>\n",
              "  <tbody>\n",
              "    <tr>\n",
              "      <th>0</th>\n",
              "      <td>0</td>\n",
              "      <td>0</td>\n",
              "      <td>0</td>\n",
              "      <td>0</td>\n",
              "      <td>3</td>\n",
              "      <td>22.059926</td>\n",
              "      <td>5.382346</td>\n",
              "      <td>21.370271</td>\n",
              "      <td>6.655555</td>\n",
              "      <td>20.574515</td>\n",
              "      <td>...</td>\n",
              "      <td>18.876902</td>\n",
              "      <td>5.117094</td>\n",
              "      <td>17.073188</td>\n",
              "      <td>5.859799</td>\n",
              "      <td>19.934121</td>\n",
              "      <td>5.920428</td>\n",
              "      <td>21.177963</td>\n",
              "      <td>5.766961</td>\n",
              "      <td>18.275664</td>\n",
              "      <td>6.125051</td>\n",
              "    </tr>\n",
              "    <tr>\n",
              "      <th>1</th>\n",
              "      <td>1</td>\n",
              "      <td>1</td>\n",
              "      <td>0</td>\n",
              "      <td>0</td>\n",
              "      <td>1</td>\n",
              "      <td>22.096829</td>\n",
              "      <td>5.355307</td>\n",
              "      <td>21.460224</td>\n",
              "      <td>6.681567</td>\n",
              "      <td>20.637943</td>\n",
              "      <td>...</td>\n",
              "      <td>19.019906</td>\n",
              "      <td>5.116580</td>\n",
              "      <td>17.083566</td>\n",
              "      <td>6.044962</td>\n",
              "      <td>20.035442</td>\n",
              "      <td>6.010858</td>\n",
              "      <td>21.241391</td>\n",
              "      <td>5.819498</td>\n",
              "      <td>18.427509</td>\n",
              "      <td>6.266005</td>\n",
              "    </tr>\n",
              "    <tr>\n",
              "      <th>2</th>\n",
              "      <td>2</td>\n",
              "      <td>2</td>\n",
              "      <td>0</td>\n",
              "      <td>0</td>\n",
              "      <td>1</td>\n",
              "      <td>22.247188</td>\n",
              "      <td>4.770894</td>\n",
              "      <td>21.663633</td>\n",
              "      <td>6.495032</td>\n",
              "      <td>20.602625</td>\n",
              "      <td>...</td>\n",
              "      <td>18.931538</td>\n",
              "      <td>5.221822</td>\n",
              "      <td>17.154349</td>\n",
              "      <td>6.203254</td>\n",
              "      <td>20.125172</td>\n",
              "      <td>5.919056</td>\n",
              "      <td>21.351962</td>\n",
              "      <td>5.599806</td>\n",
              "      <td>18.489451</td>\n",
              "      <td>6.344722</td>\n",
              "    </tr>\n",
              "    <tr>\n",
              "      <th>3</th>\n",
              "      <td>3</td>\n",
              "      <td>3</td>\n",
              "      <td>0</td>\n",
              "      <td>0</td>\n",
              "      <td>1</td>\n",
              "      <td>21.929907</td>\n",
              "      <td>4.645837</td>\n",
              "      <td>21.638130</td>\n",
              "      <td>6.237349</td>\n",
              "      <td>20.550597</td>\n",
              "      <td>...</td>\n",
              "      <td>18.879509</td>\n",
              "      <td>5.255917</td>\n",
              "      <td>17.102321</td>\n",
              "      <td>6.290400</td>\n",
              "      <td>20.095879</td>\n",
              "      <td>5.809157</td>\n",
              "      <td>21.240252</td>\n",
              "      <td>5.408437</td>\n",
              "      <td>18.570049</td>\n",
              "      <td>6.343450</td>\n",
              "    </tr>\n",
              "    <tr>\n",
              "      <th>4</th>\n",
              "      <td>4</td>\n",
              "      <td>4</td>\n",
              "      <td>0</td>\n",
              "      <td>0</td>\n",
              "      <td>1</td>\n",
              "      <td>21.804926</td>\n",
              "      <td>4.627531</td>\n",
              "      <td>21.539674</td>\n",
              "      <td>5.900741</td>\n",
              "      <td>20.372565</td>\n",
              "      <td>...</td>\n",
              "      <td>18.807578</td>\n",
              "      <td>5.158035</td>\n",
              "      <td>17.136491</td>\n",
              "      <td>6.192518</td>\n",
              "      <td>20.027738</td>\n",
              "      <td>5.658225</td>\n",
              "      <td>21.095377</td>\n",
              "      <td>5.217717</td>\n",
              "      <td>18.604219</td>\n",
              "      <td>6.245569</td>\n",
              "    </tr>\n",
              "  </tbody>\n",
              "</table>\n",
              "<p>5 rows × 25 columns</p>\n",
              "</div>\n",
              "      <button class=\"colab-df-convert\" onclick=\"convertToInteractive('df-81f637bb-c6c1-40ff-886a-9548a227ab8e')\"\n",
              "              title=\"Convert this dataframe to an interactive table.\"\n",
              "              style=\"display:none;\">\n",
              "        \n",
              "  <svg xmlns=\"http://www.w3.org/2000/svg\" height=\"24px\"viewBox=\"0 0 24 24\"\n",
              "       width=\"24px\">\n",
              "    <path d=\"M0 0h24v24H0V0z\" fill=\"none\"/>\n",
              "    <path d=\"M18.56 5.44l.94 2.06.94-2.06 2.06-.94-2.06-.94-.94-2.06-.94 2.06-2.06.94zm-11 1L8.5 8.5l.94-2.06 2.06-.94-2.06-.94L8.5 2.5l-.94 2.06-2.06.94zm10 10l.94 2.06.94-2.06 2.06-.94-2.06-.94-.94-2.06-.94 2.06-2.06.94z\"/><path d=\"M17.41 7.96l-1.37-1.37c-.4-.4-.92-.59-1.43-.59-.52 0-1.04.2-1.43.59L10.3 9.45l-7.72 7.72c-.78.78-.78 2.05 0 2.83L4 21.41c.39.39.9.59 1.41.59.51 0 1.02-.2 1.41-.59l7.78-7.78 2.81-2.81c.8-.78.8-2.07 0-2.86zM5.41 20L4 18.59l7.72-7.72 1.47 1.35L5.41 20z\"/>\n",
              "  </svg>\n",
              "      </button>\n",
              "      \n",
              "  <style>\n",
              "    .colab-df-container {\n",
              "      display:flex;\n",
              "      flex-wrap:wrap;\n",
              "      gap: 12px;\n",
              "    }\n",
              "\n",
              "    .colab-df-convert {\n",
              "      background-color: #E8F0FE;\n",
              "      border: none;\n",
              "      border-radius: 50%;\n",
              "      cursor: pointer;\n",
              "      display: none;\n",
              "      fill: #1967D2;\n",
              "      height: 32px;\n",
              "      padding: 0 0 0 0;\n",
              "      width: 32px;\n",
              "    }\n",
              "\n",
              "    .colab-df-convert:hover {\n",
              "      background-color: #E2EBFA;\n",
              "      box-shadow: 0px 1px 2px rgba(60, 64, 67, 0.3), 0px 1px 3px 1px rgba(60, 64, 67, 0.15);\n",
              "      fill: #174EA6;\n",
              "    }\n",
              "\n",
              "    [theme=dark] .colab-df-convert {\n",
              "      background-color: #3B4455;\n",
              "      fill: #D2E3FC;\n",
              "    }\n",
              "\n",
              "    [theme=dark] .colab-df-convert:hover {\n",
              "      background-color: #434B5C;\n",
              "      box-shadow: 0px 1px 3px 1px rgba(0, 0, 0, 0.15);\n",
              "      filter: drop-shadow(0px 1px 2px rgba(0, 0, 0, 0.3));\n",
              "      fill: #FFFFFF;\n",
              "    }\n",
              "  </style>\n",
              "\n",
              "      <script>\n",
              "        const buttonEl =\n",
              "          document.querySelector('#df-81f637bb-c6c1-40ff-886a-9548a227ab8e button.colab-df-convert');\n",
              "        buttonEl.style.display =\n",
              "          google.colab.kernel.accessAllowed ? 'block' : 'none';\n",
              "\n",
              "        async function convertToInteractive(key) {\n",
              "          const element = document.querySelector('#df-81f637bb-c6c1-40ff-886a-9548a227ab8e');\n",
              "          const dataTable =\n",
              "            await google.colab.kernel.invokeFunction('convertToInteractive',\n",
              "                                                     [key], {});\n",
              "          if (!dataTable) return;\n",
              "\n",
              "          const docLinkHtml = 'Like what you see? Visit the ' +\n",
              "            '<a target=\"_blank\" href=https://colab.research.google.com/notebooks/data_table.ipynb>data table notebook</a>'\n",
              "            + ' to learn more about interactive tables.';\n",
              "          element.innerHTML = '';\n",
              "          dataTable['output_type'] = 'display_data';\n",
              "          await google.colab.output.renderOutput(dataTable, element);\n",
              "          const docLink = document.createElement('div');\n",
              "          docLink.innerHTML = docLinkHtml;\n",
              "          element.appendChild(docLink);\n",
              "        }\n",
              "      </script>\n",
              "    </div>\n",
              "  </div>\n",
              "  "
            ]
          },
          "metadata": {},
          "execution_count": 4
        }
      ]
    },
    {
      "cell_type": "markdown",
      "source": [
        "## Unstable / Playground below"
      ],
      "metadata": {
        "id": "868vs99hreBF"
      }
    },
    {
      "cell_type": "markdown",
      "source": [
        "# Speed and accelaration"
      ],
      "metadata": {
        "id": "6NLCFo-rdfJG"
      }
    },
    {
      "cell_type": "code",
      "source": [
        "## Speed function\n",
        "def speed_calc(x,y,framerate):\n",
        "  speed = np.sqrt(x**2+y**2)*framerate\n",
        "  return speed"
      ],
      "metadata": {
        "id": "UxvYh25JduhZ"
      },
      "execution_count": 9,
      "outputs": []
    },
    {
      "cell_type": "code",
      "source": [
        "from numpy.ma.core import append\n",
        "# for loops to get each session each mouse\n",
        "# #### IMPROVEMENT ########\n",
        "# use np.diff pre-pad function: \n",
        "# ####################\n",
        "framerate = 30 \n",
        "# variables used to record the calculation for the whole data frame\n",
        "rec_spd_centr_head = []\n",
        "rec_spd_centr_hip = []\n",
        "rec_spd_centr_all = []\n",
        "rec_acc_centr_head = [] # cm/s^2\n",
        "rec_acc_centr_hip = []\n",
        "rec_acc_centr_all = []\n",
        "\n",
        "for ses in master_df['session_num'].unique():\n",
        "  session =  master_df[master_df['session_num'] == ses]\n",
        "  for ani in session['mouse_id'].unique():\n",
        "    animal = session[session['mouse_id'] == ani]\n",
        "    # head centroid\n",
        "    x_diff = np.diff( animal['centroid_head_X'] )\n",
        "    y_diff = np.diff( animal['centroid_head_Y'] )    \n",
        "    tmp_X = np.hstack((np.nan,  x_diff) ).T\n",
        "    tmp_Y = np.hstack((np.nan,  y_diff) ).T    \n",
        "    tmp_spd = speed_calc(tmp_X,tmp_Y,framerate) # speed within a session an animal  \n",
        "    rec_spd_centr_head = np.append(rec_spd_centr_head, tmp_spd)\n",
        "    # accelaration: diff(speed)\n",
        "    tmp_acc = ( np.hstack((np.nan, np.diff(tmp_spd))).T)/(1/framerate) # cm/s^2\n",
        "    rec_acc_centr_head = np.append(rec_acc_centr_head, tmp_acc)\n",
        "\n",
        "    # hip centroid\n",
        "    x_diff = np.diff( animal['centroid_body_X'] )\n",
        "    y_diff = np.diff( animal['centroid_body_Y'] )\n",
        "    tmp_X = np.hstack((np.nan,  x_diff) ).T\n",
        "    tmp_Y = np.hstack((np.nan,  y_diff) ).T    \n",
        "    tmp_spd = speed_calc(tmp_X,tmp_Y,framerate)  \n",
        "    rec_spd_centr_hip = np.append(rec_spd_centr_hip, tmp_spd)\n",
        "    tmp_acc = (np.hstack((np.nan, np.diff(tmp_spd))).T)/(1/framerate)\n",
        "    rec_acc_centr_hip = np.append(rec_acc_centr_hip, tmp_acc)\n",
        "\n",
        "    # all parts centroid\n",
        "    x_diff = np.diff( animal['centroid_X'] )\n",
        "    y_diff = np.diff( animal['centroid_Y'] )\n",
        "    tmp_X = np.hstack((np.nan,  x_diff) ).T\n",
        "    tmp_Y = np.hstack((np.nan,  y_diff) ).T    \n",
        "    tmp_spd = speed_calc(tmp_X,tmp_Y,framerate)  \n",
        "    rec_spd_centr_all = np.append(rec_spd_centr_all, tmp_spd)\n",
        "    tmp_acc = (np.hstack((np.nan, np.diff(tmp_spd))).T)/(1/framerate)\n",
        "    rec_acc_centr_all = np.append(rec_acc_centr_all, tmp_acc)\n",
        "\n",
        "\n",
        "    \n",
        "# append centroid speeds (3 variables) to the master_df\n",
        "master_df['spd_head_centroid'] = rec_spd_centr_head\n",
        "master_df['spd_body_centroid'] = rec_spd_centr_hip\n",
        "master_df['spd_centroid'] = rec_spd_centr_all\n",
        "\n",
        "# append centroid speeds (3 variables) to the master_df\n",
        "master_df['acc_head_centroid'] = rec_acc_centr_head\n",
        "master_df['acc_body_centroid'] = rec_acc_centr_hip\n",
        "master_df['acc_centroid'] =      rec_acc_centr_all"
      ],
      "metadata": {
        "id": "uGlBK_9Qd005"
      },
      "execution_count": 11,
      "outputs": []
    },
    {
      "cell_type": "code",
      "source": [
        "master_df.head()"
      ],
      "metadata": {
        "colab": {
          "base_uri": "https://localhost:8080/",
          "height": 317
        },
        "id": "Bq5v5EefeDEo",
        "outputId": "97001e56-b756-471f-f8e0-59af519db72e"
      },
      "execution_count": 13,
      "outputs": [
        {
          "output_type": "execute_result",
          "data": {
            "text/plain": [
              "   Unnamed: 0  frame_num  session_num  mouse_id  annotations     nose_X  \\\n",
              "0           0          0            0         0            3  22.059926   \n",
              "1           1          1            0         0            1  22.096829   \n",
              "2           2          2            0         0            1  22.247188   \n",
              "3           3          3            0         0            1  21.929907   \n",
              "4           4          4            0         0            1  21.804926   \n",
              "\n",
              "     nose_Y  left_ear_X  left_ear_Y  right_ear_X  ...  centroid_head_X  \\\n",
              "0  5.382346   21.370271    6.655555    20.574515  ...        21.177963   \n",
              "1  5.355307   21.460224    6.681567    20.637943  ...        21.241391   \n",
              "2  4.770894   21.663633    6.495032    20.602625  ...        21.351962   \n",
              "3  4.645837   21.638130    6.237349    20.550597  ...        21.240252   \n",
              "4  4.627531   21.539674    5.900741    20.372565  ...        21.095377   \n",
              "\n",
              "   centroid_head_Y  centroid_body_X  centroid_body_Y  spd_head_centroid  \\\n",
              "0         5.766961        18.275664         6.125051                NaN   \n",
              "1         5.819498        18.427509         6.266005           2.470806   \n",
              "2         5.599806        18.489451         6.344722           7.378437   \n",
              "3         5.408437        18.570049         6.343450           6.647651   \n",
              "4         5.217717        18.604219         6.245569           7.185160   \n",
              "\n",
              "   spd_body_centroid  spd_centroid  acc_head_centroid  acc_body_centroid  \\\n",
              "0                NaN           NaN                NaN                NaN   \n",
              "1           6.215506      4.074207                NaN                NaN   \n",
              "2           3.004966      3.851131         147.228931         -96.316187   \n",
              "3           2.418231      3.412081         -21.923601         -17.602061   \n",
              "4           3.110226      4.968029          16.125266          20.759847   \n",
              "\n",
              "   acc_centroid  \n",
              "0           NaN  \n",
              "1           NaN  \n",
              "2     -6.692275  \n",
              "3    -13.171507  \n",
              "4     46.678465  \n",
              "\n",
              "[5 rows x 31 columns]"
            ],
            "text/html": [
              "\n",
              "  <div id=\"df-70aeb06d-0094-4448-bbc9-7215e6af1939\">\n",
              "    <div class=\"colab-df-container\">\n",
              "      <div>\n",
              "<style scoped>\n",
              "    .dataframe tbody tr th:only-of-type {\n",
              "        vertical-align: middle;\n",
              "    }\n",
              "\n",
              "    .dataframe tbody tr th {\n",
              "        vertical-align: top;\n",
              "    }\n",
              "\n",
              "    .dataframe thead th {\n",
              "        text-align: right;\n",
              "    }\n",
              "</style>\n",
              "<table border=\"1\" class=\"dataframe\">\n",
              "  <thead>\n",
              "    <tr style=\"text-align: right;\">\n",
              "      <th></th>\n",
              "      <th>Unnamed: 0</th>\n",
              "      <th>frame_num</th>\n",
              "      <th>session_num</th>\n",
              "      <th>mouse_id</th>\n",
              "      <th>annotations</th>\n",
              "      <th>nose_X</th>\n",
              "      <th>nose_Y</th>\n",
              "      <th>left_ear_X</th>\n",
              "      <th>left_ear_Y</th>\n",
              "      <th>right_ear_X</th>\n",
              "      <th>...</th>\n",
              "      <th>centroid_head_X</th>\n",
              "      <th>centroid_head_Y</th>\n",
              "      <th>centroid_body_X</th>\n",
              "      <th>centroid_body_Y</th>\n",
              "      <th>spd_head_centroid</th>\n",
              "      <th>spd_body_centroid</th>\n",
              "      <th>spd_centroid</th>\n",
              "      <th>acc_head_centroid</th>\n",
              "      <th>acc_body_centroid</th>\n",
              "      <th>acc_centroid</th>\n",
              "    </tr>\n",
              "  </thead>\n",
              "  <tbody>\n",
              "    <tr>\n",
              "      <th>0</th>\n",
              "      <td>0</td>\n",
              "      <td>0</td>\n",
              "      <td>0</td>\n",
              "      <td>0</td>\n",
              "      <td>3</td>\n",
              "      <td>22.059926</td>\n",
              "      <td>5.382346</td>\n",
              "      <td>21.370271</td>\n",
              "      <td>6.655555</td>\n",
              "      <td>20.574515</td>\n",
              "      <td>...</td>\n",
              "      <td>21.177963</td>\n",
              "      <td>5.766961</td>\n",
              "      <td>18.275664</td>\n",
              "      <td>6.125051</td>\n",
              "      <td>NaN</td>\n",
              "      <td>NaN</td>\n",
              "      <td>NaN</td>\n",
              "      <td>NaN</td>\n",
              "      <td>NaN</td>\n",
              "      <td>NaN</td>\n",
              "    </tr>\n",
              "    <tr>\n",
              "      <th>1</th>\n",
              "      <td>1</td>\n",
              "      <td>1</td>\n",
              "      <td>0</td>\n",
              "      <td>0</td>\n",
              "      <td>1</td>\n",
              "      <td>22.096829</td>\n",
              "      <td>5.355307</td>\n",
              "      <td>21.460224</td>\n",
              "      <td>6.681567</td>\n",
              "      <td>20.637943</td>\n",
              "      <td>...</td>\n",
              "      <td>21.241391</td>\n",
              "      <td>5.819498</td>\n",
              "      <td>18.427509</td>\n",
              "      <td>6.266005</td>\n",
              "      <td>2.470806</td>\n",
              "      <td>6.215506</td>\n",
              "      <td>4.074207</td>\n",
              "      <td>NaN</td>\n",
              "      <td>NaN</td>\n",
              "      <td>NaN</td>\n",
              "    </tr>\n",
              "    <tr>\n",
              "      <th>2</th>\n",
              "      <td>2</td>\n",
              "      <td>2</td>\n",
              "      <td>0</td>\n",
              "      <td>0</td>\n",
              "      <td>1</td>\n",
              "      <td>22.247188</td>\n",
              "      <td>4.770894</td>\n",
              "      <td>21.663633</td>\n",
              "      <td>6.495032</td>\n",
              "      <td>20.602625</td>\n",
              "      <td>...</td>\n",
              "      <td>21.351962</td>\n",
              "      <td>5.599806</td>\n",
              "      <td>18.489451</td>\n",
              "      <td>6.344722</td>\n",
              "      <td>7.378437</td>\n",
              "      <td>3.004966</td>\n",
              "      <td>3.851131</td>\n",
              "      <td>147.228931</td>\n",
              "      <td>-96.316187</td>\n",
              "      <td>-6.692275</td>\n",
              "    </tr>\n",
              "    <tr>\n",
              "      <th>3</th>\n",
              "      <td>3</td>\n",
              "      <td>3</td>\n",
              "      <td>0</td>\n",
              "      <td>0</td>\n",
              "      <td>1</td>\n",
              "      <td>21.929907</td>\n",
              "      <td>4.645837</td>\n",
              "      <td>21.638130</td>\n",
              "      <td>6.237349</td>\n",
              "      <td>20.550597</td>\n",
              "      <td>...</td>\n",
              "      <td>21.240252</td>\n",
              "      <td>5.408437</td>\n",
              "      <td>18.570049</td>\n",
              "      <td>6.343450</td>\n",
              "      <td>6.647651</td>\n",
              "      <td>2.418231</td>\n",
              "      <td>3.412081</td>\n",
              "      <td>-21.923601</td>\n",
              "      <td>-17.602061</td>\n",
              "      <td>-13.171507</td>\n",
              "    </tr>\n",
              "    <tr>\n",
              "      <th>4</th>\n",
              "      <td>4</td>\n",
              "      <td>4</td>\n",
              "      <td>0</td>\n",
              "      <td>0</td>\n",
              "      <td>1</td>\n",
              "      <td>21.804926</td>\n",
              "      <td>4.627531</td>\n",
              "      <td>21.539674</td>\n",
              "      <td>5.900741</td>\n",
              "      <td>20.372565</td>\n",
              "      <td>...</td>\n",
              "      <td>21.095377</td>\n",
              "      <td>5.217717</td>\n",
              "      <td>18.604219</td>\n",
              "      <td>6.245569</td>\n",
              "      <td>7.185160</td>\n",
              "      <td>3.110226</td>\n",
              "      <td>4.968029</td>\n",
              "      <td>16.125266</td>\n",
              "      <td>20.759847</td>\n",
              "      <td>46.678465</td>\n",
              "    </tr>\n",
              "  </tbody>\n",
              "</table>\n",
              "<p>5 rows × 31 columns</p>\n",
              "</div>\n",
              "      <button class=\"colab-df-convert\" onclick=\"convertToInteractive('df-70aeb06d-0094-4448-bbc9-7215e6af1939')\"\n",
              "              title=\"Convert this dataframe to an interactive table.\"\n",
              "              style=\"display:none;\">\n",
              "        \n",
              "  <svg xmlns=\"http://www.w3.org/2000/svg\" height=\"24px\"viewBox=\"0 0 24 24\"\n",
              "       width=\"24px\">\n",
              "    <path d=\"M0 0h24v24H0V0z\" fill=\"none\"/>\n",
              "    <path d=\"M18.56 5.44l.94 2.06.94-2.06 2.06-.94-2.06-.94-.94-2.06-.94 2.06-2.06.94zm-11 1L8.5 8.5l.94-2.06 2.06-.94-2.06-.94L8.5 2.5l-.94 2.06-2.06.94zm10 10l.94 2.06.94-2.06 2.06-.94-2.06-.94-.94-2.06-.94 2.06-2.06.94z\"/><path d=\"M17.41 7.96l-1.37-1.37c-.4-.4-.92-.59-1.43-.59-.52 0-1.04.2-1.43.59L10.3 9.45l-7.72 7.72c-.78.78-.78 2.05 0 2.83L4 21.41c.39.39.9.59 1.41.59.51 0 1.02-.2 1.41-.59l7.78-7.78 2.81-2.81c.8-.78.8-2.07 0-2.86zM5.41 20L4 18.59l7.72-7.72 1.47 1.35L5.41 20z\"/>\n",
              "  </svg>\n",
              "      </button>\n",
              "      \n",
              "  <style>\n",
              "    .colab-df-container {\n",
              "      display:flex;\n",
              "      flex-wrap:wrap;\n",
              "      gap: 12px;\n",
              "    }\n",
              "\n",
              "    .colab-df-convert {\n",
              "      background-color: #E8F0FE;\n",
              "      border: none;\n",
              "      border-radius: 50%;\n",
              "      cursor: pointer;\n",
              "      display: none;\n",
              "      fill: #1967D2;\n",
              "      height: 32px;\n",
              "      padding: 0 0 0 0;\n",
              "      width: 32px;\n",
              "    }\n",
              "\n",
              "    .colab-df-convert:hover {\n",
              "      background-color: #E2EBFA;\n",
              "      box-shadow: 0px 1px 2px rgba(60, 64, 67, 0.3), 0px 1px 3px 1px rgba(60, 64, 67, 0.15);\n",
              "      fill: #174EA6;\n",
              "    }\n",
              "\n",
              "    [theme=dark] .colab-df-convert {\n",
              "      background-color: #3B4455;\n",
              "      fill: #D2E3FC;\n",
              "    }\n",
              "\n",
              "    [theme=dark] .colab-df-convert:hover {\n",
              "      background-color: #434B5C;\n",
              "      box-shadow: 0px 1px 3px 1px rgba(0, 0, 0, 0.15);\n",
              "      filter: drop-shadow(0px 1px 2px rgba(0, 0, 0, 0.3));\n",
              "      fill: #FFFFFF;\n",
              "    }\n",
              "  </style>\n",
              "\n",
              "      <script>\n",
              "        const buttonEl =\n",
              "          document.querySelector('#df-70aeb06d-0094-4448-bbc9-7215e6af1939 button.colab-df-convert');\n",
              "        buttonEl.style.display =\n",
              "          google.colab.kernel.accessAllowed ? 'block' : 'none';\n",
              "\n",
              "        async function convertToInteractive(key) {\n",
              "          const element = document.querySelector('#df-70aeb06d-0094-4448-bbc9-7215e6af1939');\n",
              "          const dataTable =\n",
              "            await google.colab.kernel.invokeFunction('convertToInteractive',\n",
              "                                                     [key], {});\n",
              "          if (!dataTable) return;\n",
              "\n",
              "          const docLinkHtml = 'Like what you see? Visit the ' +\n",
              "            '<a target=\"_blank\" href=https://colab.research.google.com/notebooks/data_table.ipynb>data table notebook</a>'\n",
              "            + ' to learn more about interactive tables.';\n",
              "          element.innerHTML = '';\n",
              "          dataTable['output_type'] = 'display_data';\n",
              "          await google.colab.output.renderOutput(dataTable, element);\n",
              "          const docLink = document.createElement('div');\n",
              "          docLink.innerHTML = docLinkHtml;\n",
              "          element.appendChild(docLink);\n",
              "        }\n",
              "      </script>\n",
              "    </div>\n",
              "  </div>\n",
              "  "
            ]
          },
          "metadata": {},
          "execution_count": 13
        }
      ]
    },
    {
      "cell_type": "markdown",
      "source": [
        "### Area"
      ],
      "metadata": {
        "id": "xenpZfcDriqX"
      }
    },
    {
      "cell_type": "code",
      "source": [
        "## calculation to get area of head, can use the same to get area of body, order of points matters when creating the polygon, order below needs to be fixed!!\n",
        "from shapely.geometry import Polygon\n",
        "poly_area_head =[]\n",
        "for x in range(0,len(master_df['frame_num'])):\n",
        "  poly = Polygon([(master_df.nose_X.iloc[x], master_df.nose_Y.iloc[x]), (master_df.left_ear_X.iloc[x], master_df.left_ear_Y.iloc[x]), (master_df.right_ear_X.iloc[x], master_df.right_ear_Y.iloc[x]),(master_df.neck_X.iloc[x], master_df.neck_Y.iloc[x])])\n",
        "  poly_area_head.append(poly.area)\n",
        "master_df[\"poly_area_head\"] = poly_area_head"
      ],
      "metadata": {
        "id": "1Az4Y0aYrD5M"
      },
      "execution_count": null,
      "outputs": []
    },
    {
      "cell_type": "code",
      "source": [
        "master_df.head()"
      ],
      "metadata": {
        "colab": {
          "base_uri": "https://localhost:8080/",
          "height": 317
        },
        "id": "s9BdihEtzXam",
        "outputId": "e03a18c4-dae8-434d-960e-00b5cc04ed56"
      },
      "execution_count": null,
      "outputs": [
        {
          "output_type": "execute_result",
          "data": {
            "text/plain": [
              "   Unnamed: 0  frame_num  session_num  mouse_id  annotations      nose_X  \\\n",
              "0           0          0            0         0            3  831.659204   \n",
              "1           1          1            0         0            1  833.050439   \n",
              "2           2          2            0         0            1  838.718976   \n",
              "3           3          3            0         0            1  826.757507   \n",
              "4           4          4            0         0            1  822.045709   \n",
              "\n",
              "       nose_Y  left_ear_X  left_ear_Y  right_ear_X  ...  centroid_X  \\\n",
              "0  202.914433  805.659204  250.914433   775.659204  ...  751.516347   \n",
              "1  201.895063  809.050439  251.895063   778.050439  ...  755.336154   \n",
              "2  179.862692  816.718976  244.862692   776.718976  ...  758.718976   \n",
              "3  175.148063  815.757507  235.148063   774.757507  ...  757.614650   \n",
              "4  174.457936  812.045709  222.457936   768.045709  ...  755.045709   \n",
              "\n",
              "   centroid_Y  head_centroid_x  head_centroid_y  body_centroid_x  \\\n",
              "0  223.200147       798.409204       217.414433       711.909204   \n",
              "1  226.609349       800.800439       219.395063       716.800439   \n",
              "2  223.148406       804.968976       211.112692       719.718976   \n",
              "3  219.005206       800.757507       203.898063       721.507507   \n",
              "4  213.315079       795.295709       196.707936       720.795709   \n",
              "\n",
              "   body_centroid_y  body_centroid_X  body_centroid_Y  head_centroid_X  \\\n",
              "0       229.664433       711.909204       229.664433       798.409204   \n",
              "1       234.645063       716.800439       234.645063       800.800439   \n",
              "2       235.862692       719.718976       235.862692       804.968976   \n",
              "3       233.898063       721.507507       233.898063       800.757507   \n",
              "4       229.457936       720.795709       229.457936       795.295709   \n",
              "\n",
              "   head_centroid_Y  \n",
              "0       217.414433  \n",
              "1       219.395063  \n",
              "2       211.112692  \n",
              "3       203.898063  \n",
              "4       196.707936  \n",
              "\n",
              "[5 rows x 29 columns]"
            ],
            "text/html": [
              "\n",
              "  <div id=\"df-c118bbbb-5365-4897-90a1-0f8f90c9bd89\">\n",
              "    <div class=\"colab-df-container\">\n",
              "      <div>\n",
              "<style scoped>\n",
              "    .dataframe tbody tr th:only-of-type {\n",
              "        vertical-align: middle;\n",
              "    }\n",
              "\n",
              "    .dataframe tbody tr th {\n",
              "        vertical-align: top;\n",
              "    }\n",
              "\n",
              "    .dataframe thead th {\n",
              "        text-align: right;\n",
              "    }\n",
              "</style>\n",
              "<table border=\"1\" class=\"dataframe\">\n",
              "  <thead>\n",
              "    <tr style=\"text-align: right;\">\n",
              "      <th></th>\n",
              "      <th>Unnamed: 0</th>\n",
              "      <th>frame_num</th>\n",
              "      <th>session_num</th>\n",
              "      <th>mouse_id</th>\n",
              "      <th>annotations</th>\n",
              "      <th>nose_X</th>\n",
              "      <th>nose_Y</th>\n",
              "      <th>left_ear_X</th>\n",
              "      <th>left_ear_Y</th>\n",
              "      <th>right_ear_X</th>\n",
              "      <th>...</th>\n",
              "      <th>centroid_X</th>\n",
              "      <th>centroid_Y</th>\n",
              "      <th>head_centroid_x</th>\n",
              "      <th>head_centroid_y</th>\n",
              "      <th>body_centroid_x</th>\n",
              "      <th>body_centroid_y</th>\n",
              "      <th>body_centroid_X</th>\n",
              "      <th>body_centroid_Y</th>\n",
              "      <th>head_centroid_X</th>\n",
              "      <th>head_centroid_Y</th>\n",
              "    </tr>\n",
              "  </thead>\n",
              "  <tbody>\n",
              "    <tr>\n",
              "      <th>0</th>\n",
              "      <td>0</td>\n",
              "      <td>0</td>\n",
              "      <td>0</td>\n",
              "      <td>0</td>\n",
              "      <td>3</td>\n",
              "      <td>831.659204</td>\n",
              "      <td>202.914433</td>\n",
              "      <td>805.659204</td>\n",
              "      <td>250.914433</td>\n",
              "      <td>775.659204</td>\n",
              "      <td>...</td>\n",
              "      <td>751.516347</td>\n",
              "      <td>223.200147</td>\n",
              "      <td>798.409204</td>\n",
              "      <td>217.414433</td>\n",
              "      <td>711.909204</td>\n",
              "      <td>229.664433</td>\n",
              "      <td>711.909204</td>\n",
              "      <td>229.664433</td>\n",
              "      <td>798.409204</td>\n",
              "      <td>217.414433</td>\n",
              "    </tr>\n",
              "    <tr>\n",
              "      <th>1</th>\n",
              "      <td>1</td>\n",
              "      <td>1</td>\n",
              "      <td>0</td>\n",
              "      <td>0</td>\n",
              "      <td>1</td>\n",
              "      <td>833.050439</td>\n",
              "      <td>201.895063</td>\n",
              "      <td>809.050439</td>\n",
              "      <td>251.895063</td>\n",
              "      <td>778.050439</td>\n",
              "      <td>...</td>\n",
              "      <td>755.336154</td>\n",
              "      <td>226.609349</td>\n",
              "      <td>800.800439</td>\n",
              "      <td>219.395063</td>\n",
              "      <td>716.800439</td>\n",
              "      <td>234.645063</td>\n",
              "      <td>716.800439</td>\n",
              "      <td>234.645063</td>\n",
              "      <td>800.800439</td>\n",
              "      <td>219.395063</td>\n",
              "    </tr>\n",
              "    <tr>\n",
              "      <th>2</th>\n",
              "      <td>2</td>\n",
              "      <td>2</td>\n",
              "      <td>0</td>\n",
              "      <td>0</td>\n",
              "      <td>1</td>\n",
              "      <td>838.718976</td>\n",
              "      <td>179.862692</td>\n",
              "      <td>816.718976</td>\n",
              "      <td>244.862692</td>\n",
              "      <td>776.718976</td>\n",
              "      <td>...</td>\n",
              "      <td>758.718976</td>\n",
              "      <td>223.148406</td>\n",
              "      <td>804.968976</td>\n",
              "      <td>211.112692</td>\n",
              "      <td>719.718976</td>\n",
              "      <td>235.862692</td>\n",
              "      <td>719.718976</td>\n",
              "      <td>235.862692</td>\n",
              "      <td>804.968976</td>\n",
              "      <td>211.112692</td>\n",
              "    </tr>\n",
              "    <tr>\n",
              "      <th>3</th>\n",
              "      <td>3</td>\n",
              "      <td>3</td>\n",
              "      <td>0</td>\n",
              "      <td>0</td>\n",
              "      <td>1</td>\n",
              "      <td>826.757507</td>\n",
              "      <td>175.148063</td>\n",
              "      <td>815.757507</td>\n",
              "      <td>235.148063</td>\n",
              "      <td>774.757507</td>\n",
              "      <td>...</td>\n",
              "      <td>757.614650</td>\n",
              "      <td>219.005206</td>\n",
              "      <td>800.757507</td>\n",
              "      <td>203.898063</td>\n",
              "      <td>721.507507</td>\n",
              "      <td>233.898063</td>\n",
              "      <td>721.507507</td>\n",
              "      <td>233.898063</td>\n",
              "      <td>800.757507</td>\n",
              "      <td>203.898063</td>\n",
              "    </tr>\n",
              "    <tr>\n",
              "      <th>4</th>\n",
              "      <td>4</td>\n",
              "      <td>4</td>\n",
              "      <td>0</td>\n",
              "      <td>0</td>\n",
              "      <td>1</td>\n",
              "      <td>822.045709</td>\n",
              "      <td>174.457936</td>\n",
              "      <td>812.045709</td>\n",
              "      <td>222.457936</td>\n",
              "      <td>768.045709</td>\n",
              "      <td>...</td>\n",
              "      <td>755.045709</td>\n",
              "      <td>213.315079</td>\n",
              "      <td>795.295709</td>\n",
              "      <td>196.707936</td>\n",
              "      <td>720.795709</td>\n",
              "      <td>229.457936</td>\n",
              "      <td>720.795709</td>\n",
              "      <td>229.457936</td>\n",
              "      <td>795.295709</td>\n",
              "      <td>196.707936</td>\n",
              "    </tr>\n",
              "  </tbody>\n",
              "</table>\n",
              "<p>5 rows × 29 columns</p>\n",
              "</div>\n",
              "      <button class=\"colab-df-convert\" onclick=\"convertToInteractive('df-c118bbbb-5365-4897-90a1-0f8f90c9bd89')\"\n",
              "              title=\"Convert this dataframe to an interactive table.\"\n",
              "              style=\"display:none;\">\n",
              "        \n",
              "  <svg xmlns=\"http://www.w3.org/2000/svg\" height=\"24px\"viewBox=\"0 0 24 24\"\n",
              "       width=\"24px\">\n",
              "    <path d=\"M0 0h24v24H0V0z\" fill=\"none\"/>\n",
              "    <path d=\"M18.56 5.44l.94 2.06.94-2.06 2.06-.94-2.06-.94-.94-2.06-.94 2.06-2.06.94zm-11 1L8.5 8.5l.94-2.06 2.06-.94-2.06-.94L8.5 2.5l-.94 2.06-2.06.94zm10 10l.94 2.06.94-2.06 2.06-.94-2.06-.94-.94-2.06-.94 2.06-2.06.94z\"/><path d=\"M17.41 7.96l-1.37-1.37c-.4-.4-.92-.59-1.43-.59-.52 0-1.04.2-1.43.59L10.3 9.45l-7.72 7.72c-.78.78-.78 2.05 0 2.83L4 21.41c.39.39.9.59 1.41.59.51 0 1.02-.2 1.41-.59l7.78-7.78 2.81-2.81c.8-.78.8-2.07 0-2.86zM5.41 20L4 18.59l7.72-7.72 1.47 1.35L5.41 20z\"/>\n",
              "  </svg>\n",
              "      </button>\n",
              "      \n",
              "  <style>\n",
              "    .colab-df-container {\n",
              "      display:flex;\n",
              "      flex-wrap:wrap;\n",
              "      gap: 12px;\n",
              "    }\n",
              "\n",
              "    .colab-df-convert {\n",
              "      background-color: #E8F0FE;\n",
              "      border: none;\n",
              "      border-radius: 50%;\n",
              "      cursor: pointer;\n",
              "      display: none;\n",
              "      fill: #1967D2;\n",
              "      height: 32px;\n",
              "      padding: 0 0 0 0;\n",
              "      width: 32px;\n",
              "    }\n",
              "\n",
              "    .colab-df-convert:hover {\n",
              "      background-color: #E2EBFA;\n",
              "      box-shadow: 0px 1px 2px rgba(60, 64, 67, 0.3), 0px 1px 3px 1px rgba(60, 64, 67, 0.15);\n",
              "      fill: #174EA6;\n",
              "    }\n",
              "\n",
              "    [theme=dark] .colab-df-convert {\n",
              "      background-color: #3B4455;\n",
              "      fill: #D2E3FC;\n",
              "    }\n",
              "\n",
              "    [theme=dark] .colab-df-convert:hover {\n",
              "      background-color: #434B5C;\n",
              "      box-shadow: 0px 1px 3px 1px rgba(0, 0, 0, 0.15);\n",
              "      filter: drop-shadow(0px 1px 2px rgba(0, 0, 0, 0.3));\n",
              "      fill: #FFFFFF;\n",
              "    }\n",
              "  </style>\n",
              "\n",
              "      <script>\n",
              "        const buttonEl =\n",
              "          document.querySelector('#df-c118bbbb-5365-4897-90a1-0f8f90c9bd89 button.colab-df-convert');\n",
              "        buttonEl.style.display =\n",
              "          google.colab.kernel.accessAllowed ? 'block' : 'none';\n",
              "\n",
              "        async function convertToInteractive(key) {\n",
              "          const element = document.querySelector('#df-c118bbbb-5365-4897-90a1-0f8f90c9bd89');\n",
              "          const dataTable =\n",
              "            await google.colab.kernel.invokeFunction('convertToInteractive',\n",
              "                                                     [key], {});\n",
              "          if (!dataTable) return;\n",
              "\n",
              "          const docLinkHtml = 'Like what you see? Visit the ' +\n",
              "            '<a target=\"_blank\" href=https://colab.research.google.com/notebooks/data_table.ipynb>data table notebook</a>'\n",
              "            + ' to learn more about interactive tables.';\n",
              "          element.innerHTML = '';\n",
              "          dataTable['output_type'] = 'display_data';\n",
              "          await google.colab.output.renderOutput(dataTable, element);\n",
              "          const docLink = document.createElement('div');\n",
              "          docLink.innerHTML = docLinkHtml;\n",
              "          element.appendChild(docLink);\n",
              "        }\n",
              "      </script>\n",
              "    </div>\n",
              "  </div>\n",
              "  "
            ]
          },
          "metadata": {},
          "execution_count": 19
        }
      ]
    },
    {
      "cell_type": "markdown",
      "source": [
        "### Head angle\n",
        "\n",
        "$cos(\\alpha) = \\frac{\\bar{a}\\cdot\\bar{b}}{|a||b|}$ "
      ],
      "metadata": {
        "id": "0qa_edkTr6NA"
      }
    },
    {
      "cell_type": "code",
      "source": [
        "# head angle calcullation\n",
        "vec_neck_tailbase = np.array((master_df['neck_X'] - master_df['tailbase_X'], master_df['neck_Y'] - master_df['tailbase_Y'])).T\n",
        "vec_nose_neck = np.array((master_df['nose_X'] - master_df['neck_X'], master_df['nose_Y'] - master_df['neck_Y'])).T\n",
        "dummy1 = np.array(np.linalg.norm(vec_neck_tailbase, axis=1)*np.linalg.norm(vec_nose_neck, axis=1))\n",
        "dummy2 = np.zeros(len(vec_neck_tailbase))\n",
        "len(vec_neck_tailbase)\n",
        "for i in range(len(vec_neck_tailbase)):\n",
        "  dummy2[i] = np.dot(vec_neck_tailbase[i],vec_nose_neck[i])\n",
        "angle_head_body = np.degrees(np.arccos(dummy2/dummy1))\n"
      ],
      "metadata": {
        "colab": {
          "base_uri": "https://localhost:8080/"
        },
        "id": "Z_COOEPLobYK",
        "outputId": "dd85aba6-7b7f-4e84-8a43-9510a6e53a98"
      },
      "execution_count": null,
      "outputs": [
        {
          "output_type": "stream",
          "name": "stderr",
          "text": [
            "/usr/local/lib/python3.7/dist-packages/ipykernel_launcher.py:9: RuntimeWarning: invalid value encountered in arccos\n",
            "  if __name__ == '__main__':\n"
          ]
        }
      ]
    },
    {
      "cell_type": "code",
      "source": [
        "angle_head_body.shape"
      ],
      "metadata": {
        "colab": {
          "base_uri": "https://localhost:8080/"
        },
        "id": "1N5WvPhsogLI",
        "outputId": "6cc23985-cb5d-48f6-d91b-ec85cb77181b"
      },
      "execution_count": null,
      "outputs": [
        {
          "output_type": "execute_result",
          "data": {
            "text/plain": [
              "(996194,)"
            ]
          },
          "metadata": {},
          "execution_count": 15
        }
      ]
    },
    {
      "cell_type": "code",
      "source": [
        "plt.plot(angle_head_body[10000:11000])"
      ],
      "metadata": {
        "colab": {
          "base_uri": "https://localhost:8080/",
          "height": 282
        },
        "id": "a_sE101-odYH",
        "outputId": "15472e64-7f84-4859-de3f-100e3d4f5066"
      },
      "execution_count": null,
      "outputs": [
        {
          "output_type": "execute_result",
          "data": {
            "text/plain": [
              "[<matplotlib.lines.Line2D at 0x7fa13f65ce10>]"
            ]
          },
          "metadata": {},
          "execution_count": 16
        },
        {
          "output_type": "display_data",
          "data": {
            "text/plain": [
              "<Figure size 432x288 with 1 Axes>"
            ],
            "image/png": "[encoded data removed]"
          },
          "metadata": {
            "needs_background": "light"
          }
        }
      ]
    },
    {
      "cell_type": "code",
      "source": [
        "np.degrees(2*np.pi)"
      ],
      "metadata": {
        "colab": {
          "base_uri": "https://localhost:8080/"
        },
        "id": "V69UoNOCosZT",
        "outputId": "9c275093-fc07-4db4-9817-c0dbfb8f6f54"
      },
      "execution_count": null,
      "outputs": [
        {
          "output_type": "execute_result",
          "data": {
            "text/plain": [
              "360.0"
            ]
          },
          "metadata": {},
          "execution_count": 17
        }
      ]
    },
    {
      "cell_type": "code",
      "source": [
        "tail_neck_vec_x = master_df['neck_X'] - master_df['tailbase_X']\n",
        "tail_neck_vec_y = master_df['neck_Y'] - master_df['tailbase_Y']\n",
        "\n",
        "neck_nose_vec_x = master_df['nose_X'] - master_df['neck_X']\n",
        "neck_nose_vec_y = master_df['nose_Y'] - master_df['neck_Y']"
      ],
      "metadata": {
        "id": "0lJrVuZ_0e01"
      },
      "execution_count": null,
      "outputs": []
    },
    {
      "cell_type": "code",
      "source": [
        "tail_neck_vec_y.describe()"
      ],
      "metadata": {
        "colab": {
          "base_uri": "https://localhost:8080/"
        },
        "id": "3EzdyXo2E41d",
        "outputId": "93bd2515-5f91-41d5-96bd-54f9359438be"
      },
      "execution_count": null,
      "outputs": [
        {
          "output_type": "execute_result",
          "data": {
            "text/plain": [
              "count    996193.000000\n",
              "mean          3.820024\n",
              "std          79.079291\n",
              "min        -253.000000\n",
              "25%         -60.000000\n",
              "50%           5.000000\n",
              "75%          69.000000\n",
              "max         247.000000\n",
              "dtype: float64"
            ]
          },
          "metadata": {},
          "execution_count": 26
        }
      ]
    },
    {
      "cell_type": "code",
      "source": [
        "sp = (tail_neck_vec_x * neck_nose_vec_x) + (tail_neck_vec_y * neck_nose_vec_y)"
      ],
      "metadata": {
        "id": "D1bAoyeKC_6-"
      },
      "execution_count": null,
      "outputs": []
    },
    {
      "cell_type": "code",
      "source": [
        "direction_cosines = sp / (np.sqrt(tail_neck_vec_x**2 + tail_neck_vec_y**2) * np.sqrt(neck_nose_vec_x**2 + neck_nose_vec_y**2))"
      ],
      "metadata": {
        "id": "GKBS-kgtIbDN"
      },
      "execution_count": null,
      "outputs": []
    },
    {
      "cell_type": "code",
      "source": [
        "direction_cosines.describe()"
      ],
      "metadata": {
        "colab": {
          "base_uri": "https://localhost:8080/"
        },
        "id": "wgG2V7xnJN4T",
        "outputId": "bb4c2832-e6e0-4611-9ee1-23100c587025"
      },
      "execution_count": null,
      "outputs": [
        {
          "output_type": "execute_result",
          "data": {
            "text/plain": [
              "count    996193.000000\n",
              "mean          0.844296\n",
              "std           0.260033\n",
              "min          -1.000000\n",
              "25%           0.816205\n",
              "50%           0.942116\n",
              "75%           0.988165\n",
              "max           1.000000\n",
              "dtype: float64"
            ]
          },
          "metadata": {},
          "execution_count": 56
        }
      ]
    },
    {
      "cell_type": "code",
      "source": [
        "head_angle = np.arccos(direction_cosines)*180/(np.pi)"
      ],
      "metadata": {
        "colab": {
          "base_uri": "https://localhost:8080/"
        },
        "id": "2AgR6dp2JYbF",
        "outputId": "e7fd621f-332a-4a9b-be8b-d8b837c5b7a5"
      },
      "execution_count": null,
      "outputs": [
        {
          "output_type": "stream",
          "name": "stderr",
          "text": [
            "/usr/local/lib/python3.7/dist-packages/pandas/core/arraylike.py:364: RuntimeWarning: invalid value encountered in arccos\n",
            "  result = getattr(ufunc, method)(*inputs, **kwargs)\n"
          ]
        }
      ]
    },
    {
      "cell_type": "code",
      "source": [
        "head_angle.describe()"
      ],
      "metadata": {
        "colab": {
          "base_uri": "https://localhost:8080/"
        },
        "id": "T4AT457iKRBP",
        "outputId": "2470c046-585e-45a0-bbda-97e0c609fc24"
      },
      "execution_count": null,
      "outputs": [
        {
          "output_type": "execute_result",
          "data": {
            "text/plain": [
              "count    996128.000000\n",
              "mean         25.537555\n",
              "std          23.367300\n",
              "min           0.000000\n",
              "25%           8.826063\n",
              "50%          19.591011\n",
              "75%          35.293369\n",
              "max         180.000000\n",
              "dtype: float64"
            ]
          },
          "metadata": {},
          "execution_count": 69
        }
      ]
    },
    {
      "cell_type": "code",
      "source": [
        "## \n",
        "tail_neck_vec_x = master_df['neck_X'] - master_df['tailbase_X']\n",
        "tail_neck_vec_y = master_df['neck_Y'] - master_df['tailbase_Y']\n",
        "\n",
        "neck_nose_vec_x = master_df['nose_X'] - master_df['neck_X']\n",
        "neck_nose_vec_y = master_df['nose_Y'] - master_df['neck_Y']\n",
        "\n",
        "sp = (tail_neck_vec_x * neck_nose_vec_x) + (tail_neck_vec_y * neck_nose_vec_y)\n",
        "direction_cosines = sp / (np.sqrt(tail_neck_vec_x**2 + tail_neck_vec_y**2) * np.sqrt(neck_nose_vec_x**2 + neck_nose_vec_y**2))\n",
        "head_angle = np.arccos(direction_cosines)*180/(np.pi)"
      ],
      "metadata": {
        "colab": {
          "base_uri": "https://localhost:8080/"
        },
        "id": "A38C7GD5LJdL",
        "outputId": "c3d464c4-2f71-42f7-960a-dc0f22c6f5b0"
      },
      "execution_count": null,
      "outputs": [
        {
          "output_type": "stream",
          "name": "stderr",
          "text": [
            "/usr/local/lib/python3.7/dist-packages/pandas/core/arraylike.py:364: RuntimeWarning: invalid value encountered in arccos\n",
            "  result = getattr(ufunc, method)(*inputs, **kwargs)\n"
          ]
        }
      ]
    },
    {
      "cell_type": "code",
      "source": [
        "direction_cosines.describe()"
      ],
      "metadata": {
        "colab": {
          "base_uri": "https://localhost:8080/"
        },
        "id": "esYjlp2ZXarc",
        "outputId": "83e25514-60a6-4441-ebeb-e6b3c4ebadfd"
      },
      "execution_count": null,
      "outputs": [
        {
          "output_type": "execute_result",
          "data": {
            "text/plain": [
              "count    996193.000000\n",
              "mean          0.844296\n",
              "std           0.260033\n",
              "min          -1.000000\n",
              "25%           0.816205\n",
              "50%           0.942116\n",
              "75%           0.988165\n",
              "max           1.000000\n",
              "dtype: float64"
            ]
          },
          "metadata": {},
          "execution_count": 72
        }
      ]
    },
    {
      "cell_type": "code",
      "source": [
        "plt.hist(head_angle)"
      ],
      "metadata": {
        "colab": {
          "base_uri": "https://localhost:8080/",
          "height": 334
        },
        "id": "Be3BQ9hwLxna",
        "outputId": "ad34c6d3-b2f2-400c-ffd0-900bd462ed7d"
      },
      "execution_count": null,
      "outputs": [
        {
          "output_type": "execute_result",
          "data": {
            "text/plain": [
              "(array([465301., 289854., 139466.,  58554.,  22768.,   8921.,   4459.,\n",
              "          2595.,   2018.,   2192.]),\n",
              " array([-90., -72., -54., -36., -18.,   0.,  18.,  36.,  54.,  72.,  90.]),\n",
              " <a list of 10 Patch objects>)"
            ]
          },
          "metadata": {},
          "execution_count": 74
        },
        {
          "output_type": "display_data",
          "data": {
            "text/plain": [
              "<Figure size 432x288 with 1 Axes>"
            ],
            "image/png": "[encoded data removed]"
          },
          "metadata": {
            "needs_background": "light"
          }
        }
      ]
    }
  ]
}